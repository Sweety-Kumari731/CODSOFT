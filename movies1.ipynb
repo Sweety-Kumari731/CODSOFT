{
 "cells": [
  {
   "cell_type": "markdown",
   "id": "28e077d7-5174-4c6a-a70a-d1ba207ee274",
   "metadata": {},
   "source": [
    "# Task 2: Movie Rating Prediction with Python\n"
   ]
  },
  {
   "cell_type": "markdown",
   "id": "56786928-e0a0-4103-809f-16b714c3d687",
   "metadata": {},
   "source": [
    "\n",
    "**Dataset Source:**  \n",
    "https://www.kaggle.com/datasets/adrianmcmahon/imdb-india-movies\n",
    "\n",
    "\n",
    "\n",
    "---"
   ]
  },
  {
   "cell_type": "code",
   "execution_count": 6,
   "id": "26a56581-2c4d-4369-9081-eedf8332dd02",
   "metadata": {},
   "outputs": [
    {
     "name": "stdout",
     "output_type": "stream",
     "text": [
      "MAE: 0.888100375960727\n",
      "RMSE: 1.1530576357303295\n",
      "R2 Score: 0.33228703358060896\n"
     ]
    }
   ],
   "source": [
    "# Step 1: Import required libraries\n",
    "import pandas as pd\n",
    "from sklearn.model_selection import train_test_split\n",
    "from sklearn.ensemble import GradientBoostingRegressor\n",
    "from sklearn.preprocessing import LabelEncoder\n",
    "from sklearn.metrics import mean_absolute_error, mean_squared_error, r2_score\n",
    "import numpy as np\n",
    "\n",
    "# Step 2: Load and clean data\n",
    "df = pd.read_csv(\"IMDb Movies India.csv\", encoding='ISO-8859-1')\n",
    "\n",
    "# Drop rows where rating is missing\n",
    "df = df[df['Rating'].notna()].copy()\n",
    "\n",
    "# Clean 'Votes' column\n",
    "df['Votes'] = df['Votes'].astype(str).str.replace(\",\", \"\")\n",
    "df['Votes'] = pd.to_numeric(df['Votes'], errors='coerce')\n",
    "\n",
    "# Extract first genre only\n",
    "df['Genre'] = df['Genre'].astype(str).str.split(',').str[0]\n",
    "\n",
    "# Keep only selected columns\n",
    "df = df[['Year', 'Votes', 'Director', 'Genre', 'Rating']]\n",
    "df = df.dropna()\n",
    "\n",
    "# Encode categorical columns\n",
    "label_cols = ['Director', 'Genre', 'Year']\n",
    "for col in label_cols:\n",
    "    df[col] = LabelEncoder().fit_transform(df[col])\n",
    "\n",
    "# Step 3: Define input and target\n",
    "X = df.drop(columns='Rating')\n",
    "y = df['Rating']\n",
    "\n",
    "# Train-test split\n",
    "xtrain, xtest, ytrain, ytest = train_test_split(X, y, test_size=0.2, random_state=7)\n",
    "\n",
    "# Step 4: Train Gradient Boosting Regressor\n",
    "model = GradientBoostingRegressor()\n",
    "model.fit(xtrain, ytrain)\n",
    "\n",
    "# Step 5: Predict and evaluate\n",
    "ypred = model.predict(xtest)\n",
    "\n",
    "mae = mean_absolute_error(ytest, ypred)\n",
    "rmse = np.sqrt(mean_squared_error(ytest, ypred))\n",
    "r2 = r2_score(ytest, ypred)\n",
    "\n",
    "print(\"MAE:\", mae)\n",
    "print(\"RMSE:\", rmse)\n",
    "print(\"R2 Score:\", r2)"
   ]
  },
  {
   "cell_type": "code",
   "execution_count": null,
   "id": "bf56dcb8-3d37-4266-b88f-f41dc0e58ac5",
   "metadata": {},
   "outputs": [],
   "source": []
  }
 ],
 "metadata": {
  "kernelspec": {
   "display_name": "Python [conda env:base] *",
   "language": "python",
   "name": "conda-base-py"
  },
  "language_info": {
   "codemirror_mode": {
    "name": "ipython",
    "version": 3
   },
   "file_extension": ".py",
   "mimetype": "text/x-python",
   "name": "python",
   "nbconvert_exporter": "python",
   "pygments_lexer": "ipython3",
   "version": "3.12.7"
  }
 },
 "nbformat": 4,
 "nbformat_minor": 5
}
