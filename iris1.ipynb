{
 "cells": [
  {
   "cell_type": "markdown",
   "id": "99d61d4f-bbe3-44b1-b3b8-bec9184717ea",
   "metadata": {},
   "source": [
    "# Task 3: Iris Flower Classification"
   ]
  },
  {
   "cell_type": "markdown",
   "id": "772e95b1-16c9-4d36-b372-c229d34d52b4",
   "metadata": {},
   "source": [
    "\n",
    "**Dataset Source:**  \n",
    "https://www.kaggle.com/datasets/arshid/iris-flower-dataset\n",
    "\n",
    "\n",
    "---\n"
   ]
  },
  {
   "cell_type": "code",
   "execution_count": 7,
   "id": "00cfb80f-98f1-44b0-84de-13374dce6c74",
   "metadata": {},
   "outputs": [
    {
     "name": "stdout",
     "output_type": "stream",
     "text": [
      "Accuracy: 1.0\n",
      "Classification Report:\n",
      "               precision    recall  f1-score   support\n",
      "\n",
      "           0       1.00      1.00      1.00        11\n",
      "           1       1.00      1.00      1.00        13\n",
      "           2       1.00      1.00      1.00         6\n",
      "\n",
      "    accuracy                           1.00        30\n",
      "   macro avg       1.00      1.00      1.00        30\n",
      "weighted avg       1.00      1.00      1.00        30\n",
      "\n"
     ]
    }
   ],
   "source": [
    "# Step 1: Import libraries\n",
    "import pandas as pd\n",
    "from sklearn.preprocessing import LabelEncoder\n",
    "from sklearn.model_selection import train_test_split\n",
    "from sklearn.neighbors import KNeighborsClassifier\n",
    "from sklearn.metrics import classification_report, accuracy_score\n",
    "\n",
    "# Step 2: Load and encode the dataset\n",
    "iris = pd.read_csv(\"IRIS.csv\")\n",
    "iris['species'] = LabelEncoder().fit_transform(iris['species'])\n",
    "\n",
    "# Step 3: Split into features and target\n",
    "features = iris.drop(columns='species')\n",
    "target = iris['species']\n",
    "\n",
    "# Step 4: Split into training and testing sets\n",
    "train_X, test_X, train_y, test_y = train_test_split(features, target, test_size=0.2, random_state=1)\n",
    "\n",
    "# Step 5: Train the KNN model\n",
    "knn_model = KNeighborsClassifier(n_neighbors=3)\n",
    "knn_model.fit(train_X, train_y)\n",
    "\n",
    "# Step 6: Evaluate the model\n",
    "predicted_y = knn_model.predict(test_X)\n",
    "\n",
    "print(\"Accuracy:\", accuracy_score(test_y, predicted_y))\n",
    "print(\"Classification Report:\\n\", classification_report(test_y, predicted_y))"
   ]
  },
  {
   "cell_type": "code",
   "execution_count": null,
   "id": "8bc1292e-df7a-43fa-b9e4-b290ee5d4746",
   "metadata": {},
   "outputs": [],
   "source": []
  }
 ],
 "metadata": {
  "kernelspec": {
   "display_name": "Python [conda env:base] *",
   "language": "python",
   "name": "conda-base-py"
  },
  "language_info": {
   "codemirror_mode": {
    "name": "ipython",
    "version": 3
   },
   "file_extension": ".py",
   "mimetype": "text/x-python",
   "name": "python",
   "nbconvert_exporter": "python",
   "pygments_lexer": "ipython3",
   "version": "3.12.7"
  }
 },
 "nbformat": 4,
 "nbformat_minor": 5
}
